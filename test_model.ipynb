{
  "nbformat": 4,
  "nbformat_minor": 0,
  "metadata": {
    "colab": {
      "name": "test_model.ipynb",
      "version": "0.3.2",
      "provenance": [],
      "include_colab_link": true
    },
    "kernelspec": {
      "name": "python3",
      "display_name": "Python 3"
    },
    "accelerator": "GPU"
  },
  "cells": [
    {
      "cell_type": "markdown",
      "metadata": {
        "id": "view-in-github",
        "colab_type": "text"
      },
      "source": [
        "<a href=\"https://colab.research.google.com/github/mchowdh200/exome-copy/blob/master/test_model.ipynb\" target=\"_parent\"><img src=\"https://colab.research.google.com/assets/colab-badge.svg\" alt=\"Open In Colab\"/></a>"
      ]
    },
    {
      "metadata": {
        "id": "GpvyPxdXrK0X",
        "colab_type": "code",
        "colab": {}
      },
      "cell_type": "code",
      "source": [
        "\n",
        "#!pip install --upgrade pandas\n",
        "import numpy as np\n",
        "import pandas as pd\n",
        "import tensorflow as tf\n",
        "from tensorflow.keras.utils import to_categorical\n",
        "from tensorflow.keras.preprocessing.sequence import pad_sequences\n",
        "from tensorflow.keras.models import Sequential\n",
        "from tensorflow.keras.layers import Conv1D, MaxPool1D, Flatten, Dense, Dropout, LeakyReLU\n",
        "from tensorflow.keras.callbacks import EarlyStopping, LearningRateScheduler, ReduceLROnPlateau\n",
        "\n",
        "from sklearn.model_selection import train_test_split"
      ],
      "execution_count": 0,
      "outputs": []
    },
    {
      "metadata": {
        "id": "4za5onC1qqw6",
        "colab_type": "code",
        "colab": {
          "base_uri": "https://localhost:8080/",
          "height": 54
        },
        "outputId": "278d3699-a8e3-4773-f0c2-4b15ec4d82fb"
      },
      "cell_type": "code",
      "source": [
        "from google.colab import drive\n",
        "drive.mount('/content/gdrive')"
      ],
      "execution_count": 2,
      "outputs": [
        {
          "output_type": "stream",
          "text": [
            "Drive already mounted at /content/gdrive; to attempt to forcibly remount, call drive.mount(\"/content/gdrive\", force_remount=True).\n"
          ],
          "name": "stdout"
        }
      ]
    },
    {
      "metadata": {
        "id": "Wbx9-1rY5HGZ",
        "colab_type": "text"
      },
      "cell_type": "markdown",
      "source": [
        "## Load/Process Data"
      ]
    },
    {
      "metadata": {
        "id": "fpj0DxAtshmW",
        "colab_type": "code",
        "colab": {}
      },
      "cell_type": "code",
      "source": [
        "deletions = pd.read_pickle('/content/gdrive/My Drive/Colab Notebooks/deletions.pkl')"
      ],
      "execution_count": 0,
      "outputs": []
    },
    {
      "metadata": {
        "id": "EIO2Oh6is04F",
        "colab_type": "code",
        "colab": {}
      },
      "cell_type": "code",
      "source": [
        "duplications = pd.read_pickle('/content/gdrive/My Drive/Colab Notebooks/duplications.pkl') "
      ],
      "execution_count": 0,
      "outputs": []
    },
    {
      "metadata": {
        "id": "_ew_v5AWt3Hc",
        "colab_type": "code",
        "colab": {}
      },
      "cell_type": "code",
      "source": [
        "non_sv = pd.read_pickle('/content/gdrive/My Drive/Colab Notebooks/non_sv.pkl') "
      ],
      "execution_count": 0,
      "outputs": []
    },
    {
      "metadata": {
        "id": "WiSCeU1Bt-Ar",
        "colab_type": "code",
        "colab": {
          "base_uri": "https://localhost:8080/",
          "height": 68
        },
        "outputId": "32c323f4-4789-4780-bebb-76b26a370497"
      },
      "cell_type": "code",
      "source": [
        "print(non_sv.data.values.shape)\n",
        "print(deletions.data.values.shape)\n",
        "print(duplications.data.values.shape)"
      ],
      "execution_count": 6,
      "outputs": [
        {
          "output_type": "stream",
          "text": [
            "(105339,)\n",
            "(48939,)\n",
            "(19485,)\n"
          ],
          "name": "stdout"
        }
      ]
    },
    {
      "metadata": {
        "id": "S9MvBqKJuDUC",
        "colab_type": "code",
        "colab": {}
      },
      "cell_type": "code",
      "source": [
        "data = np.concatenate((\n",
        "    non_sv.data.values,\n",
        "    deletions.data.values,\n",
        "    duplications.data.values\n",
        "))\n",
        "\n",
        "labels = np.concatenate((\n",
        "    np.zeros((len(non_sv),)),\n",
        "    np.full((len(deletions,)), fill_value=1),\n",
        "    np.full((len(duplications,)), fill_value=2)\n",
        "))"
      ],
      "execution_count": 0,
      "outputs": []
    },
    {
      "metadata": {
        "id": "zXli9jeswwAO",
        "colab_type": "code",
        "colab": {}
      },
      "cell_type": "code",
      "source": [
        "labels = to_categorical(labels)"
      ],
      "execution_count": 0,
      "outputs": []
    },
    {
      "metadata": {
        "id": "Sqmq2Kmew2U-",
        "colab_type": "code",
        "colab": {}
      },
      "cell_type": "code",
      "source": [
        "#data[0].shape\n",
        "#print(pad_sequences(data, maxlen=225).shape)\n",
        "data_padded = [pad_sequences(d, maxlen=300) for d in data]"
      ],
      "execution_count": 0,
      "outputs": []
    },
    {
      "metadata": {
        "id": "7y2k5GwTy-7g",
        "colab_type": "code",
        "colab": {}
      },
      "cell_type": "code",
      "source": [
        "data_padded = np.array(data_padded)"
      ],
      "execution_count": 0,
      "outputs": []
    },
    {
      "metadata": {
        "id": "SeUt_9Og0eqD",
        "colab_type": "code",
        "colab": {
          "base_uri": "https://localhost:8080/",
          "height": 34
        },
        "outputId": "11f7887a-4c91-41eb-bb29-7977c44a9eb2"
      },
      "cell_type": "code",
      "source": [
        "data_padded.shape"
      ],
      "execution_count": 11,
      "outputs": [
        {
          "output_type": "execute_result",
          "data": {
            "text/plain": [
              "(173763, 8, 300)"
            ]
          },
          "metadata": {
            "tags": []
          },
          "execution_count": 11
        }
      ]
    },
    {
      "metadata": {
        "id": "hI_FZnP200l6",
        "colab_type": "code",
        "colab": {}
      },
      "cell_type": "code",
      "source": [
        ""
      ],
      "execution_count": 0,
      "outputs": []
    },
    {
      "metadata": {
        "id": "2ivQs72C5MT_",
        "colab_type": "text"
      },
      "cell_type": "markdown",
      "source": [
        "## Define Model"
      ]
    },
    {
      "metadata": {
        "id": "dEhViLfH5Nu1",
        "colab_type": "code",
        "colab": {}
      },
      "cell_type": "code",
      "source": [
        "model = Sequential([\n",
        "    Conv1D(input_shape=data_padded.shape[1:],\n",
        "           filters=512,\n",
        "           kernel_size=6,\n",
        "           strides=1,\n",
        "           dilation_rate=1,\n",
        "           data_format='channels_first',\n",
        "           kernel_initializer='glorot_uniform',\n",
        "           activation=LeakyReLU()),\n",
        "    Dropout(0.25),\n",
        "    MaxPool1D(pool_size=3),\n",
        "    Conv1D(filters=128,\n",
        "           kernel_size=6,\n",
        "           strides=1,\n",
        "           dilation_rate=1,\n",
        "           data_format='channels_first',\n",
        "           kernel_initializer='glorot_uniform',\n",
        "           activation=LeakyReLU()),\n",
        "    Dropout(0.25),\n",
        "    MaxPool1D(pool_size=3),\n",
        "    Flatten(),\n",
        "    Dense(3, activation='softmax')\n",
        "])\n",
        "\n",
        "model.compile(optimizer='Adam', loss='categorical_crossentropy', metrics=['accuracy'])"
      ],
      "execution_count": 0,
      "outputs": []
    },
    {
      "metadata": {
        "id": "JZ0rUo-L76lu",
        "colab_type": "code",
        "colab": {
          "base_uri": "https://localhost:8080/",
          "height": 374
        },
        "outputId": "d1ef79af-12db-42be-fa4f-babc726ccdfb"
      },
      "cell_type": "code",
      "source": [
        "X_train, X_val, y_train, y_val = train_test_split(data_padded, labels, stratify=labels, test_size=0.1)\n",
        "callbacks = [EarlyStopping(patience=4),\n",
        "             ReduceLROnPlateau(patience=2)]\n",
        "model.fit(X_train, y_train,\n",
        "          epochs=20,\n",
        "          batch_size=512,\n",
        "          verbose=1,\n",
        "          validation_data=(X_val, y_val),\n",
        "          callbacks=callbacks)"
      ],
      "execution_count": 0,
      "outputs": [
        {
          "output_type": "stream",
          "text": [
            "Train on 156386 samples, validate on 17377 samples\n",
            "Epoch 1/20\n",
            "156386/156386 [==============================] - 34s 218us/sample - loss: 3.0050 - acc: 0.6664 - val_loss: 2.6359 - val_acc: 0.3688\n",
            "Epoch 2/20\n",
            "156386/156386 [==============================] - 33s 213us/sample - loss: 0.6708 - acc: 0.7742 - val_loss: 0.6245 - val_acc: 0.7965\n",
            "Epoch 3/20\n",
            "156386/156386 [==============================] - 34s 214us/sample - loss: 0.5961 - acc: 0.7999 - val_loss: 0.5789 - val_acc: 0.8145\n",
            "Epoch 4/20\n",
            "156386/156386 [==============================] - 34s 216us/sample - loss: 0.5656 - acc: 0.8105 - val_loss: 0.5772 - val_acc: 0.8294\n",
            "Epoch 5/20\n",
            "156386/156386 [==============================] - 34s 218us/sample - loss: 0.5466 - acc: 0.8178 - val_loss: 0.5836 - val_acc: 0.8184\n",
            "Epoch 6/20\n",
            "156386/156386 [==============================] - 34s 219us/sample - loss: 0.5377 - acc: 0.8237 - val_loss: 0.6167 - val_acc: 0.8356\n",
            "Epoch 7/20\n",
            "156386/156386 [==============================] - 34s 219us/sample - loss: 0.4804 - acc: 0.8394 - val_loss: 0.5310 - val_acc: 0.8469\n",
            "Epoch 8/20\n",
            "156386/156386 [==============================] - 34s 220us/sample - loss: 0.4485 - acc: 0.8486 - val_loss: 0.5233 - val_acc: 0.8450\n",
            "Epoch 9/20\n",
            "156386/156386 [==============================] - 35s 221us/sample - loss: 0.4325 - acc: 0.8535 - val_loss: 0.5090 - val_acc: 0.8511\n",
            "Epoch 10/20\n",
            "142848/156386 [==========================>...] - ETA: 2s - loss: 0.4169 - acc: 0.8571"
          ],
          "name": "stdout"
        }
      ]
    },
    {
      "metadata": {
        "id": "YXFiBN9t8L3c",
        "colab_type": "code",
        "colab": {}
      },
      "cell_type": "code",
      "source": [
        ""
      ],
      "execution_count": 0,
      "outputs": []
    }
  ]
}