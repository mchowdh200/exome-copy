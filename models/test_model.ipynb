{
  "nbformat": 4,
  "nbformat_minor": 0,
  "metadata": {
    "colab": {
      "name": "test_model.ipynb",
      "version": "0.3.2",
      "provenance": [],
      "collapsed_sections": [],
      "include_colab_link": true
    },
    "kernelspec": {
      "name": "python3",
      "display_name": "Python 3"
    },
    "accelerator": "GPU"
  },
  "cells": [
    {
      "cell_type": "markdown",
      "metadata": {
        "id": "view-in-github",
        "colab_type": "text"
      },
      "source": [
        "<a href=\"https://colab.research.google.com/github/mchowdh200/exome-copy/blob/master/test_model.ipynb\" target=\"_parent\"><img src=\"https://colab.research.google.com/assets/colab-badge.svg\" alt=\"Open In Colab\"/></a>"
      ]
    },
    {
      "metadata": {
        "id": "ii_v6MdHVXeF",
        "colab_type": "code",
        "colab": {}
      },
      "cell_type": "code",
      "source": [
        "#!pip install --upgrade pandas"
      ],
      "execution_count": 0,
      "outputs": []
    },
    {
      "metadata": {
        "id": "GpvyPxdXrK0X",
        "colab_type": "code",
        "colab": {}
      },
      "cell_type": "code",
      "source": [
        "\n",
        "import numpy as np\n",
        "import pandas as pd\n",
        "import tensorflow as tf\n",
        "from tensorflow.keras.utils import to_categorical\n",
        "from tensorflow.keras.preprocessing.sequence import pad_sequences\n",
        "from tensorflow.keras.models import Sequential\n",
        "from tensorflow.keras.layers import Conv1D, MaxPool1D, Flatten, Dense, Dropout, LeakyReLU, BatchNormalization, Activation\n",
        "from tensorflow.keras.callbacks import EarlyStopping, LearningRateScheduler, ReduceLROnPlateau\n",
        "from tensorflow.keras.utils import normalize\n",
        "from tensorflow.keras.optimizers import Adam\n",
        "\n",
        "from sklearn.model_selection import train_test_split\n",
        "from sklearn.preprocessing import normalize"
      ],
      "execution_count": 0,
      "outputs": []
    },
    {
      "metadata": {
        "id": "4za5onC1qqw6",
        "colab_type": "code",
        "outputId": "d0f967f2-10b0-497e-cc7e-d4a715d40321",
        "colab": {
          "base_uri": "https://localhost:8080/",
          "height": 35
        }
      },
      "cell_type": "code",
      "source": [
        "from google.colab import drive\n",
        "drive.mount('/content/gdrive')"
      ],
      "execution_count": 3,
      "outputs": [
        {
          "output_type": "stream",
          "text": [
            "Drive already mounted at /content/gdrive; to attempt to forcibly remount, call drive.mount(\"/content/gdrive\", force_remount=True).\n"
          ],
          "name": "stdout"
        }
      ]
    },
    {
      "metadata": {
        "id": "Wbx9-1rY5HGZ",
        "colab_type": "text"
      },
      "cell_type": "markdown",
      "source": [
        "## Load/Process Data"
      ]
    },
    {
      "metadata": {
        "id": "fpj0DxAtshmW",
        "colab_type": "code",
        "colab": {}
      },
      "cell_type": "code",
      "source": [
        "deletions = pd.read_pickle('/content/gdrive/My Drive/Colab Notebooks/deletions.pkl')"
      ],
      "execution_count": 0,
      "outputs": []
    },
    {
      "metadata": {
        "id": "EIO2Oh6is04F",
        "colab_type": "code",
        "colab": {}
      },
      "cell_type": "code",
      "source": [
        "duplications = pd.read_pickle('/content/gdrive/My Drive/Colab Notebooks/duplications.pkl') "
      ],
      "execution_count": 0,
      "outputs": []
    },
    {
      "metadata": {
        "id": "_ew_v5AWt3Hc",
        "colab_type": "code",
        "colab": {}
      },
      "cell_type": "code",
      "source": [
        "non_sv = pd.read_pickle('/content/gdrive/My Drive/Colab Notebooks/non_sv.pkl') "
      ],
      "execution_count": 0,
      "outputs": []
    },
    {
      "metadata": {
        "id": "WiSCeU1Bt-Ar",
        "colab_type": "code",
        "outputId": "93251b12-83a7-402c-c3b5-82e9a811efb6",
        "colab": {
          "base_uri": "https://localhost:8080/",
          "height": 71
        }
      },
      "cell_type": "code",
      "source": [
        "print(non_sv.data.values.shape)\n",
        "print(deletions.data.values.shape)\n",
        "print(duplications.data.values.shape)"
      ],
      "execution_count": 7,
      "outputs": [
        {
          "output_type": "stream",
          "text": [
            "(105339,)\n",
            "(48939,)\n",
            "(19485,)\n"
          ],
          "name": "stdout"
        }
      ]
    },
    {
      "metadata": {
        "id": "S9MvBqKJuDUC",
        "colab_type": "code",
        "colab": {}
      },
      "cell_type": "code",
      "source": [
        "data = np.concatenate((\n",
        "    non_sv.data.values,\n",
        "    deletions.data.values,\n",
        "    duplications.data.values\n",
        "))\n",
        "\n",
        "labels = np.concatenate((\n",
        "    np.zeros((len(non_sv),)),\n",
        "    np.full((len(deletions,)), fill_value=1),\n",
        "    np.full((len(duplications,)), fill_value=2)\n",
        "))"
      ],
      "execution_count": 0,
      "outputs": []
    },
    {
      "metadata": {
        "id": "zXli9jeswwAO",
        "colab_type": "code",
        "colab": {}
      },
      "cell_type": "code",
      "source": [
        "labels = to_categorical(labels)"
      ],
      "execution_count": 0,
      "outputs": []
    },
    {
      "metadata": {
        "id": "Sqmq2Kmew2U-",
        "colab_type": "code",
        "colab": {}
      },
      "cell_type": "code",
      "source": [
        "#data[0].shape\n",
        "#print(pad_sequences(data, maxlen=225).shape)\n",
        "# data_padded = [pad_sequences(normalize(d, axis=0), maxlen=500) for d in data]\n",
        "data_padded = [pad_sequences(d, maxlen=500) for d in data]"
      ],
      "execution_count": 0,
      "outputs": []
    },
    {
      "metadata": {
        "id": "7y2k5GwTy-7g",
        "colab_type": "code",
        "colab": {}
      },
      "cell_type": "code",
      "source": [
        "data_padded = np.array(data_padded)"
      ],
      "execution_count": 0,
      "outputs": []
    },
    {
      "metadata": {
        "id": "SeUt_9Og0eqD",
        "colab_type": "code",
        "colab": {}
      },
      "cell_type": "code",
      "source": [
        "data_padded.shape"
      ],
      "execution_count": 0,
      "outputs": []
    },
    {
      "metadata": {
        "id": "hI_FZnP200l6",
        "colab_type": "code",
        "colab": {}
      },
      "cell_type": "code",
      "source": [
        ""
      ],
      "execution_count": 0,
      "outputs": []
    },
    {
      "metadata": {
        "id": "2ivQs72C5MT_",
        "colab_type": "text"
      },
      "cell_type": "markdown",
      "source": [
        "## Define Model"
      ]
    },
    {
      "metadata": {
        "id": "dEhViLfH5Nu1",
        "colab_type": "code",
        "colab": {}
      },
      "cell_type": "code",
      "source": [
        "model = Sequential([\n",
        "    #BatchNormalization(input_shape=data_padded.shape[1:]),\n",
        "    Conv1D(input_shape=data_padded.shape[1:],\n",
        "           filters=128,\n",
        "           kernel_size=6,\n",
        "           strides=1,\n",
        "           dilation_rate=1,\n",
        "           data_format='channels_first',\n",
        "           kernel_initializer='glorot_uniform'),\n",
        "    Dropout(0.25),\n",
        "    BatchNormalization(),\n",
        "    Activation(LeakyReLU()),\n",
        "    MaxPool1D(pool_size=3),\n",
        "    \n",
        "    Conv1D(filters=256,\n",
        "           kernel_size=6,\n",
        "           strides=1,\n",
        "           dilation_rate=1,\n",
        "           data_format='channels_first',\n",
        "           kernel_initializer='glorot_uniform'),\n",
        "    BatchNormalization(),\n",
        "    Activation(LeakyReLU()),\n",
        "    Dropout(0.25),\n",
        "    MaxPool1D(pool_size=3),\n",
        "    \n",
        "    Conv1D(filters=512,\n",
        "           kernel_size=6,\n",
        "           strides=1,\n",
        "           dilation_rate=1,\n",
        "           data_format='channels_first',\n",
        "           kernel_initializer='glorot_uniform'),\n",
        "    BatchNormalization(),\n",
        "    Activation(LeakyReLU()),\n",
        "    Dropout(0.25),\n",
        "    MaxPool1D(pool_size=3),\n",
        "    \n",
        "    Flatten(), \n",
        "    Dense(3, activation='softmax')\n",
        "])\n",
        "\n",
        "model.compile(optimizer=Adam(clipnorm=1, amsgrad=False), \n",
        "              loss='categorical_crossentropy',\n",
        "              metrics=['accuracy'])\n",
        "X_train, X_val, y_train, y_val = train_test_split(data_padded, labels, stratify=labels, test_size=0.1)"
      ],
      "execution_count": 0,
      "outputs": []
    },
    {
      "metadata": {
        "id": "JZ0rUo-L76lu",
        "colab_type": "code",
        "colab": {}
      },
      "cell_type": "code",
      "source": [
        "callbacks = [EarlyStopping(patience=4),\n",
        "             ReduceLROnPlateau(patience=3, factor=0.2)]\n",
        "model.fit(X_train, y_train,\n",
        "          epochs=20,\n",
        "          batch_size=256,\n",
        "          verbose=1,\n",
        "          validation_data=(X_val, y_val),\n",
        "          callbacks=callbacks)"
      ],
      "execution_count": 0,
      "outputs": []
    },
    {
      "metadata": {
        "id": "YXFiBN9t8L3c",
        "colab_type": "code",
        "colab": {}
      },
      "cell_type": "code",
      "source": [
        ""
      ],
      "execution_count": 0,
      "outputs": []
    }
  ]
}