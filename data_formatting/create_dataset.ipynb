{
 "cells": [
  {
   "cell_type": "code",
   "execution_count": 1,
   "metadata": {},
   "outputs": [],
   "source": [
    "import numpy as np\n",
    "import pandas as pd\n",
    "import matplotlib\n",
    "import matplotlib.pyplot as plt\n",
    "import seaborn as sns\n",
    "%matplotlib inline\n",
    "\n",
    "from ipywidgets import interactive, interact, IntSlider"
   ]
  },
  {
   "cell_type": "markdown",
   "metadata": {},
   "source": [
    "## Choose train/test/val and SV type"
   ]
  },
  {
   "cell_type": "code",
   "execution_count": 33,
   "metadata": {},
   "outputs": [
    {
     "data": {
      "application/vnd.jupyter.widget-view+json": {
       "model_id": "29a66a1633614a77b47a271f8b580092",
       "version_major": 2,
       "version_minor": 0
      },
      "text/plain": [
       "interactive(children=(Dropdown(description='train_test', options=('train', 'test', 'val'), value='train'), Out…"
      ]
     },
     "metadata": {},
     "output_type": "display_data"
    }
   ],
   "source": [
    "def get_data_split(train_test='train'): return train_test\n",
    "w1 = interactive(get_data_split, train_test=['train', 'test', 'val'])\n",
    "display(w1)"
   ]
  },
  {
   "cell_type": "code",
   "execution_count": 3,
   "metadata": {},
   "outputs": [
    {
     "data": {
      "application/vnd.jupyter.widget-view+json": {
       "model_id": "b31db6c5537f4d2bb617ff3506947a42",
       "version_major": 2,
       "version_minor": 0
      },
      "text/plain": [
       "interactive(children=(Dropdown(description='svtype', options=('nosv', 'del', 'dup'), value='nosv'), Output()),…"
      ]
     },
     "metadata": {},
     "output_type": "display_data"
    }
   ],
   "source": [
    "def get_svtype(svtype='nosv'): return svtype\n",
    "w2 = interactive(get_svtype, svtype=['nosv', 'del', 'dup'])\n",
    "display(w2)"
   ]
  },
  {
   "cell_type": "markdown",
   "metadata": {},
   "source": [
    "## Load Bed files"
   ]
  },
  {
   "cell_type": "code",
   "execution_count": 46,
   "metadata": {},
   "outputs": [
    {
     "name": "stdout",
     "output_type": "stream",
     "text": [
      "398\n"
     ]
    },
    {
     "data": {
      "text/html": [
       "<div>\n",
       "<style scoped>\n",
       "    .dataframe tbody tr th:only-of-type {\n",
       "        vertical-align: middle;\n",
       "    }\n",
       "\n",
       "    .dataframe tbody tr th {\n",
       "        vertical-align: top;\n",
       "    }\n",
       "\n",
       "    .dataframe thead th {\n",
       "        text-align: right;\n",
       "    }\n",
       "</style>\n",
       "<table border=\"1\" class=\"dataframe\">\n",
       "  <thead>\n",
       "    <tr style=\"text-align: right;\">\n",
       "      <th></th>\n",
       "      <th>chrom</th>\n",
       "      <th>start</th>\n",
       "      <th>end</th>\n",
       "      <th>genotype</th>\n",
       "      <th>data</th>\n",
       "    </tr>\n",
       "  </thead>\n",
       "  <tbody>\n",
       "    <tr>\n",
       "      <th>0</th>\n",
       "      <td>21</td>\n",
       "      <td>14982500</td>\n",
       "      <td>14983000</td>\n",
       "      <td>0|1</td>\n",
       "      <td>2,0,0,0,1,0,0,0,0,0,0,4,0,0,0,1,5,0,0,0,3,0,0,...</td>\n",
       "    </tr>\n",
       "    <tr>\n",
       "      <th>1</th>\n",
       "      <td>21</td>\n",
       "      <td>14983000</td>\n",
       "      <td>14983120</td>\n",
       "      <td>0|1</td>\n",
       "      <td>2,0,0,0,1,0,0,0,2,0,0,0,1,0,0,0,0,0,0,1,0,0,0,...</td>\n",
       "    </tr>\n",
       "    <tr>\n",
       "      <th>2</th>\n",
       "      <td>21</td>\n",
       "      <td>14987668</td>\n",
       "      <td>14987941</td>\n",
       "      <td>0|1</td>\n",
       "      <td>6,0,0,0,4,0,0,0,0,3,0,0,1,2,0,0,0,2,0,0,0,2,0,...</td>\n",
       "    </tr>\n",
       "    <tr>\n",
       "      <th>3</th>\n",
       "      <td>21</td>\n",
       "      <td>14990620</td>\n",
       "      <td>14990826</td>\n",
       "      <td>0|1</td>\n",
       "      <td>2,0,0,0,1,0,0,0,0,0,3,0,0,0,1,0,3,0,0,0,1,0,0,...</td>\n",
       "    </tr>\n",
       "    <tr>\n",
       "      <th>4</th>\n",
       "      <td>21</td>\n",
       "      <td>14992429</td>\n",
       "      <td>14992666</td>\n",
       "      <td>0|1</td>\n",
       "      <td>3,0,0,0,2,0,0,0,3,0,0,0,1,0,0,0,0,3,0,0,0,1,0,...</td>\n",
       "    </tr>\n",
       "  </tbody>\n",
       "</table>\n",
       "</div>"
      ],
      "text/plain": [
       "  chrom     start       end genotype  \\\n",
       "0    21  14982500  14983000      0|1   \n",
       "1    21  14983000  14983120      0|1   \n",
       "2    21  14987668  14987941      0|1   \n",
       "3    21  14990620  14990826      0|1   \n",
       "4    21  14992429  14992666      0|1   \n",
       "\n",
       "                                                data  \n",
       "0  2,0,0,0,1,0,0,0,0,0,0,4,0,0,0,1,5,0,0,0,3,0,0,...  \n",
       "1  2,0,0,0,1,0,0,0,2,0,0,0,1,0,0,0,0,0,0,1,0,0,0,...  \n",
       "2  6,0,0,0,4,0,0,0,0,3,0,0,1,2,0,0,0,2,0,0,0,2,0,...  \n",
       "3  2,0,0,0,1,0,0,0,0,0,3,0,0,0,1,0,3,0,0,0,1,0,0,...  \n",
       "4  3,0,0,0,2,0,0,0,3,0,0,0,1,0,0,0,0,3,0,0,0,1,0,...  "
      ]
     },
     "execution_count": 46,
     "metadata": {},
     "output_type": "execute_result"
    }
   ],
   "source": [
    "TRAIN_TEST = w1.result\n",
    "SVTYPE = w2.result\n",
    "\n",
    "df = pd.read_csv(f'../data/pileups/{TRAIN_TEST}/{TRAIN_TEST}_{SVTYPE}.bed',\n",
    "                 sep='\\t', \n",
    "                 names=['chrom', 'start', 'end', 'data'] if SVTYPE == 'nosv'\n",
    "                       else ['chrom', 'start', 'end', 'genotype', 'data']\n",
    "                )\n",
    "df.dropna(axis=0, inplace=True)\n",
    "print(len(df))\n",
    "df.head()"
   ]
  },
  {
   "cell_type": "markdown",
   "metadata": {},
   "source": [
    "### Convert data field into matrix of size (8, N)"
   ]
  },
  {
   "cell_type": "code",
   "execution_count": 47,
   "metadata": {
    "scrolled": true
   },
   "outputs": [],
   "source": [
    "df.data = df.data.apply(lambda x: np.fromstring(x, sep=',').reshape((-1, 8)).T)"
   ]
  },
  {
   "cell_type": "markdown",
   "metadata": {},
   "source": [
    "### Visualize"
   ]
  },
  {
   "cell_type": "code",
   "execution_count": 48,
   "metadata": {},
   "outputs": [
    {
     "data": {
      "application/vnd.jupyter.widget-view+json": {
       "model_id": "9f1b96fd19b641c1b90cae09ab9f3da3",
       "version_major": 2,
       "version_minor": 0
      },
      "text/plain": [
       "interactive(children=(IntSlider(value=0, description='i', max=397), Output()), _dom_classes=('widget-interact'…"
      ]
     },
     "metadata": {},
     "output_type": "display_data"
    }
   ],
   "source": [
    "@interact(i=IntSlider(min=0, max=len(df)-1, step=1))\n",
    "def plot_example(i=0) :\n",
    "    matplotlib.rc('font', **dict(size=100))\n",
    "    plt.figure(figsize=(100, 100))\n",
    "    sns.heatmap(df.data.values[i], xticklabels=False, yticklabels=False,\n",
    "                square=True, cbar_kws={\"orientation\": \"horizontal\"})"
   ]
  },
  {
   "cell_type": "markdown",
   "metadata": {},
   "source": [
    "### Write Data"
   ]
  },
  {
   "cell_type": "code",
   "execution_count": 45,
   "metadata": {},
   "outputs": [],
   "source": [
    "pd.to_pickle(df, f'../data/DataFrames/{TRAIN_TEST}/{TRAIN_TEST}_{SVTYPE}.pkl')"
   ]
  },
  {
   "cell_type": "code",
   "execution_count": null,
   "metadata": {},
   "outputs": [],
   "source": []
  }
 ],
 "metadata": {
  "kernelspec": {
   "display_name": "Python 3",
   "language": "python",
   "name": "python3"
  },
  "language_info": {
   "codemirror_mode": {
    "name": "ipython",
    "version": 3
   },
   "file_extension": ".py",
   "mimetype": "text/x-python",
   "name": "python",
   "nbconvert_exporter": "python",
   "pygments_lexer": "ipython3",
   "version": "3.7.2"
  }
 },
 "nbformat": 4,
 "nbformat_minor": 2
}
