{
 "cells": [
  {
   "cell_type": "code",
   "execution_count": 1,
   "metadata": {},
   "outputs": [],
   "source": [
    "import numpy as np\n",
    "import pandas as pd\n",
    "import matplotlib.pyplot as plt\n",
    "%matplotlib inline"
   ]
  },
  {
   "cell_type": "markdown",
   "metadata": {},
   "source": [
    "## Load Non-Structural Variants\n",
    "the \"data\" field is a flattented 8xN matrix where each row corresponds to the count of (ATCGatgc) in the pileup at each position\n",
    "\n",
    "*TODO* Before I run this on the nosv dataset, I should use bedtools to sort for when I want to eventually train by holding out one chromosome."
   ]
  },
  {
   "cell_type": "code",
   "execution_count": 2,
   "metadata": {},
   "outputs": [],
   "source": [
    "non_sv = pd.read_csv('data/pileups/all_nosv.bed', \n",
    "                     sep='\\t', names=['chrom', 'start', 'end', 'data'])"
   ]
  },
  {
   "cell_type": "code",
   "execution_count": 3,
   "metadata": {},
   "outputs": [],
   "source": [
    "non_sv.dropna(axis=0, inplace=True)"
   ]
  },
  {
   "cell_type": "code",
   "execution_count": 4,
   "metadata": {},
   "outputs": [
    {
     "data": {
      "text/html": [
       "<div>\n",
       "<style scoped>\n",
       "    .dataframe tbody tr th:only-of-type {\n",
       "        vertical-align: middle;\n",
       "    }\n",
       "\n",
       "    .dataframe tbody tr th {\n",
       "        vertical-align: top;\n",
       "    }\n",
       "\n",
       "    .dataframe thead th {\n",
       "        text-align: right;\n",
       "    }\n",
       "</style>\n",
       "<table border=\"1\" class=\"dataframe\">\n",
       "  <thead>\n",
       "    <tr style=\"text-align: right;\">\n",
       "      <th></th>\n",
       "      <th>chrom</th>\n",
       "      <th>start</th>\n",
       "      <th>end</th>\n",
       "      <th>data</th>\n",
       "    </tr>\n",
       "  </thead>\n",
       "  <tbody>\n",
       "    <tr>\n",
       "      <th>0</th>\n",
       "      <td>8</td>\n",
       "      <td>145625119</td>\n",
       "      <td>145625308</td>\n",
       "      <td>0,1,0,0,0,5,0,0,0,0,0,0,0,0,0,6,0,0,0,0,6,0,0,...</td>\n",
       "    </tr>\n",
       "    <tr>\n",
       "      <th>1</th>\n",
       "      <td>12</td>\n",
       "      <td>102108232</td>\n",
       "      <td>102108473</td>\n",
       "      <td>0,0,54,0,0,0,22,0,55,0,0,0,21,0,0,0,0,55,0,0,0...</td>\n",
       "    </tr>\n",
       "    <tr>\n",
       "      <th>2</th>\n",
       "      <td>19</td>\n",
       "      <td>55451706</td>\n",
       "      <td>55451884</td>\n",
       "      <td>0,0,0,148,0,0,0,55,145,0,0,0,56,0,0,0,146,0,0,...</td>\n",
       "    </tr>\n",
       "    <tr>\n",
       "      <th>3</th>\n",
       "      <td>8</td>\n",
       "      <td>87464738</td>\n",
       "      <td>87464958</td>\n",
       "      <td>0,71,0,0,0,2,0,0,0,71,0,0,0,2,0,0,71,0,0,0,2,0...</td>\n",
       "    </tr>\n",
       "    <tr>\n",
       "      <th>4</th>\n",
       "      <td>8</td>\n",
       "      <td>141407669</td>\n",
       "      <td>141407894</td>\n",
       "      <td>0,0,86,0,0,0,13,0,0,0,87,0,0,0,13,0,0,0,0,91,0...</td>\n",
       "    </tr>\n",
       "  </tbody>\n",
       "</table>\n",
       "</div>"
      ],
      "text/plain": [
       "  chrom      start        end  \\\n",
       "0     8  145625119  145625308   \n",
       "1    12  102108232  102108473   \n",
       "2    19   55451706   55451884   \n",
       "3     8   87464738   87464958   \n",
       "4     8  141407669  141407894   \n",
       "\n",
       "                                                data  \n",
       "0  0,1,0,0,0,5,0,0,0,0,0,0,0,0,0,6,0,0,0,0,6,0,0,...  \n",
       "1  0,0,54,0,0,0,22,0,55,0,0,0,21,0,0,0,0,55,0,0,0...  \n",
       "2  0,0,0,148,0,0,0,55,145,0,0,0,56,0,0,0,146,0,0,...  \n",
       "3  0,71,0,0,0,2,0,0,0,71,0,0,0,2,0,0,71,0,0,0,2,0...  \n",
       "4  0,0,86,0,0,0,13,0,0,0,87,0,0,0,13,0,0,0,0,91,0...  "
      ]
     },
     "execution_count": 4,
     "metadata": {},
     "output_type": "execute_result"
    }
   ],
   "source": [
    "non_sv.head() "
   ]
  },
  {
   "cell_type": "markdown",
   "metadata": {},
   "source": [
    "### Convert to matrices"
   ]
  },
  {
   "cell_type": "code",
   "execution_count": 5,
   "metadata": {},
   "outputs": [],
   "source": [
    "non_sv['data'] = non_sv['data'].apply(lambda x: np.fromstring(x, sep=',').reshape((-1, 8)).T)"
   ]
  },
  {
   "cell_type": "code",
   "execution_count": 11,
   "metadata": {},
   "outputs": [
    {
     "data": {
      "text/plain": [
       "array([0., 0., 0., 0., 6., 0., 0., 0.])"
      ]
     },
     "execution_count": 11,
     "metadata": {},
     "output_type": "execute_result"
    }
   ],
   "source": [
    "non_sv.head().data.values[0][:, 2]"
   ]
  },
  {
   "cell_type": "code",
   "execution_count": 12,
   "metadata": {},
   "outputs": [
    {
     "name": "stdout",
     "output_type": "stream",
     "text": [
      "(255.2103133903134, 101.57453648201017, 228.0, 500, 1)\n"
     ]
    }
   ],
   "source": [
    "x = (np.mean([X.shape[1] for X in non_sv['data'].values]),\n",
    "np.std([X.shape[1] for X in non_sv['data'].values]),\n",
    "np.median([X.shape[1] for X in non_sv['data'].values]),\n",
    "np.max([X.shape[1] for X in non_sv['data'].values]),\n",
    "np.min([X.shape[1] for X in non_sv['data'].values]))\n",
    "print(x)\n",
    "# There are mostly exon regions whose size is around 265.\n",
    "# A few hundred really long ones, and a few really short ones"
   ]
  },
  {
   "cell_type": "markdown",
   "metadata": {},
   "source": [
    "## Load Deletions"
   ]
  },
  {
   "cell_type": "code",
   "execution_count": 14,
   "metadata": {},
   "outputs": [],
   "source": [
    "deletions = pd.read_csv('data/pileups/all_del.bed',\n",
    "                        sep='\\t', names=['chrom', 'start', 'end', 'genotype', 'data'])"
   ]
  },
  {
   "cell_type": "code",
   "execution_count": 15,
   "metadata": {},
   "outputs": [],
   "source": [
    "deletions.dropna(axis=0, inplace=True)"
   ]
  },
  {
   "cell_type": "code",
   "execution_count": 16,
   "metadata": {},
   "outputs": [
    {
     "data": {
      "text/plain": [
       "54001"
      ]
     },
     "execution_count": 16,
     "metadata": {},
     "output_type": "execute_result"
    }
   ],
   "source": [
    "len(deletions)"
   ]
  },
  {
   "cell_type": "code",
   "execution_count": 18,
   "metadata": {},
   "outputs": [],
   "source": [
    "deletions['data'] = deletions['data'].apply(lambda x: np.fromstring(x, sep=',').reshape((-1, 8)).T)"
   ]
  },
  {
   "cell_type": "code",
   "execution_count": 19,
   "metadata": {},
   "outputs": [
    {
     "data": {
      "text/plain": [
       "(8, 272)"
      ]
     },
     "execution_count": 19,
     "metadata": {},
     "output_type": "execute_result"
    }
   ],
   "source": [
    "deletions.head().data.values[0].shape"
   ]
  },
  {
   "cell_type": "code",
   "execution_count": 20,
   "metadata": {},
   "outputs": [
    {
     "name": "stdout",
     "output_type": "stream",
     "text": [
      "(255.28358734097517, 124.94022845632237, 234.0, 500, 1)\n"
     ]
    }
   ],
   "source": [
    "x = (np.mean([X.shape[1] for X in deletions['data'].values]),\n",
    "np.std([X.shape[1] for X in deletions['data'].values]),\n",
    "np.median([X.shape[1] for X in deletions['data'].values]),\n",
    "np.max([X.shape[1] for X in deletions['data'].values]),\n",
    "np.min([X.shape[1] for X in deletions['data'].values]))\n",
    "print(x)"
   ]
  },
  {
   "cell_type": "markdown",
   "metadata": {},
   "source": [
    "## Load Duplications"
   ]
  },
  {
   "cell_type": "code",
   "execution_count": 22,
   "metadata": {},
   "outputs": [],
   "source": [
    "duplications = pd.read_csv('data/pileups/all_dup.bed',\n",
    "                        sep='\\t', names=['chrom', 'start', 'end', 'genotype', 'data'])"
   ]
  },
  {
   "cell_type": "code",
   "execution_count": 23,
   "metadata": {},
   "outputs": [],
   "source": [
    "duplications.dropna(axis=0, inplace=True)"
   ]
  },
  {
   "cell_type": "code",
   "execution_count": 24,
   "metadata": {},
   "outputs": [
    {
     "data": {
      "text/plain": [
       "21362"
      ]
     },
     "execution_count": 24,
     "metadata": {},
     "output_type": "execute_result"
    }
   ],
   "source": [
    "len(duplications)"
   ]
  },
  {
   "cell_type": "code",
   "execution_count": 25,
   "metadata": {},
   "outputs": [],
   "source": [
    "duplications['data'] = duplications['data'].apply(lambda x: np.fromstring(x, sep=',').reshape((-1, 8)).T)"
   ]
  },
  {
   "cell_type": "code",
   "execution_count": 27,
   "metadata": {},
   "outputs": [
    {
     "data": {
      "text/plain": [
       "(8, 309)"
      ]
     },
     "execution_count": 27,
     "metadata": {},
     "output_type": "execute_result"
    }
   ],
   "source": [
    "duplications.head().data.values[0].shape"
   ]
  },
  {
   "cell_type": "code",
   "execution_count": 28,
   "metadata": {},
   "outputs": [
    {
     "name": "stdout",
     "output_type": "stream",
     "text": [
      "(263.62732890178825, 110.96169185164786, 235.0, 500, 2)\n"
     ]
    }
   ],
   "source": [
    "x = (np.mean([X.shape[1] for X in duplications['data'].values]),\n",
    "np.std([X.shape[1] for X in duplications['data'].values]),\n",
    "np.median([X.shape[1] for X in duplications['data'].values]),\n",
    "np.max([X.shape[1] for X in duplications['data'].values]),\n",
    "np.min([X.shape[1] for X in duplications['data'].values]))\n",
    "print(x)"
   ]
  },
  {
   "cell_type": "code",
   "execution_count": 29,
   "metadata": {},
   "outputs": [],
   "source": [
    "pd.to_pickle(non_sv, 'data/non_sv.pkl')\n",
    "pd.to_pickle(deletions, 'data/deletions.pkl')\n",
    "pd.to_pickle(duplications, 'data/duplications.pkl')"
   ]
  },
  {
   "cell_type": "code",
   "execution_count": null,
   "metadata": {},
   "outputs": [],
   "source": []
  }
 ],
 "metadata": {
  "kernelspec": {
   "display_name": "Python 3",
   "language": "python",
   "name": "python3"
  },
  "language_info": {
   "codemirror_mode": {
    "name": "ipython",
    "version": 3
   },
   "file_extension": ".py",
   "mimetype": "text/x-python",
   "name": "python",
   "nbconvert_exporter": "python",
   "pygments_lexer": "ipython3",
   "version": "3.7.2"
  }
 },
 "nbformat": 4,
 "nbformat_minor": 2
}
